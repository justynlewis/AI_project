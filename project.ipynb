{
 "cells": [
  {
   "cell_type": "markdown",
   "metadata": {},
   "source": [
    "# Generating Summaries\n",
    "## Justyn Lewis and Emery Jacobowitz\n",
    "\n",
    "---\n",
    "\n",
    "Reading is hard. It would be really nice if we could just plug texts into a computer program, which could succinctly explain what's going on. This is the summarization problem. How do we figure out what information a text is trying to convey, and what to report in our summary.\n",
    "\n",
    "There are two approaches to summarization.\n",
    "\n",
    "The first is **extractive** summarization, where we come up with some way of ranking how important sentences are, then cutting out everything except those sentences. This is pretty easy to do, and it retains the original linguistic structure, but it's not how humans summarize things.\n",
    "\n",
    "The \"natural\" approach is **abstractive** summarization. This is where we read through a text, and come up with a novel summary that captures the main ideas. This is the approach we will be implementing today.\n",
    "\n",
    "We start by importing a dataset. This is a set of Amazon reviews for various projects over the span of a few years. Each one comes with a sample summary, which we will use to train our model."
   ]
  },
  {
   "cell_type": "code",
   "execution_count": 1,
   "metadata": {},
   "outputs": [],
   "source": [
    "import pandas as pd\n",
    "import tensorflow as tf\n",
    "\n",
    "\n",
    "# Getting the data\n",
    "# This is a dataset of 500k Amazon reviews\n",
    "# We only use 100k of these.\n",
    "data = pd.read_csv('data\\Reviews.csv', nrows=100000)\n",
    "data.drop_duplicates(subset=['Text'],inplace=True)  #dropping duplicates\n",
    "data.dropna(axis=0,inplace=True)   #dropping na\n",
    "text_data = data['Text']\n"
   ]
  },
  {
   "cell_type": "code",
   "execution_count": 2,
   "metadata": {},
   "outputs": [
    {
     "name": "stdout",
     "output_type": "stream",
     "text": [
      "2.10.0\n",
      "2.10.0\n",
      "False\n",
      "[]\n"
     ]
    }
   ],
   "source": [
    "print(tf.__version__)\n",
    "print(tf.keras.__version__)\n",
    "\n",
    "print(tf.test.is_built_with_cuda())\n",
    "print(tf.config.list_physical_devices('GPU'))"
   ]
  },
  {
   "cell_type": "markdown",
   "metadata": {},
   "source": [
    "## Prologue: Preparing the data\n",
    "\n",
    "The first step when dealing with raw text is to clean it up, so we will use NLTK's NLP utilities to do this. This step includes:\n",
    "- Case normalization\n",
    "- Lemmatizing\n",
    "    - i.e. replacing inflected words with their \"dictionary forms\"\n",
    "- Removing punctuation\n",
    "- etc.\n",
    "\n",
    "To accomplish this, we will use a **tokenizer** from Keras. The goal is to train the tokenizer on our dataset, to create a \"vocabulary\" which accurately represents the kind of things we are going to summarize. The tokenizer also cleans the data, as above.\n",
    "\n",
    "Before the tokenizer runs, we first need to append all of the summaries with tags representing their starting and ending points."
   ]
  },
  {
   "cell_type": "code",
   "execution_count": 3,
   "metadata": {},
   "outputs": [
    {
     "data": {
      "text/plain": [
       "['_START_ Good Quality Dog Food _END_',\n",
       " '_START_ Not as Advertised _END_',\n",
       " '_START_ \"Delight\" says it all _END_']"
      ]
     },
     "execution_count": 3,
     "metadata": {},
     "output_type": "execute_result"
    }
   ],
   "source": [
    "summary_data = data['Summary']\n",
    "summary_data = ['_START_ ' + summary + ' _END_' for summary in summary_data]\n",
    "\n",
    "summary_data[:3]"
   ]
  },
  {
   "cell_type": "code",
   "execution_count": 5,
   "metadata": {},
   "outputs": [],
   "source": [
    "from tensorflow.keras.preprocessing.text import Tokenizer\n",
    "\n",
    "# AKA out-of-vocabulary token\n",
    "# For unknown words that aren't relevant to tokenization\n",
    "oov = '_oov_'\n",
    "\n",
    "# initialize the tokenizer\n",
    "text_tokenizer = Tokenizer(oov_token=oov)\n",
    "\n",
    "# fit it on our dataset\n",
    "text_tokenizer.fit_on_texts(text_data)\n",
    "\n",
    "# split the text up into sequences\n",
    "input_seqs = text_tokenizer.texts_to_sequences(text_data)\n",
    "\n",
    "# repeat for the summaries\n",
    "summary_tokenizer = Tokenizer(oov_token=oov)\n",
    "summary_tokenizer.fit_on_texts(summary_data)\n",
    "target_seqs = text_tokenizer.texts_to_sequences(summary_data)"
   ]
  },
  {
   "cell_type": "code",
   "execution_count": 6,
   "metadata": {},
   "outputs": [
    {
     "name": "stdout",
     "output_type": "stream",
     "text": [
      "Input vocabulary size:  60712\n",
      "Target vocabulary size:  15822\n"
     ]
    },
    {
     "data": {
      "text/plain": [
       "[[51], [56], [537], [11973], []]"
      ]
     },
     "execution_count": 6,
     "metadata": {},
     "output_type": "execute_result"
    }
   ],
   "source": [
    "print('Input vocabulary size: ', len(text_tokenizer.word_index))\n",
    "print('Target vocabulary size: ', len(summary_tokenizer.word_index))\n",
    "text_tokenizer.texts_to_sequences(['We', 'love', 'Artificial', 'Intelligence', '!'])\n",
    "# The output is a measure of how frequent these terms are in our dataset.\n",
    "# Notice that \"!\" is removed, because the tokenizer strips out punctuation.\n",
    "\n",
    "\n"
   ]
  },
  {
   "cell_type": "markdown",
   "metadata": {},
   "source": [
    "The last bit of preprocessing is to pad and truncate our sequences, since we are going to want to always feed in inputs of the same length to our model. This is why we needed to label the starts and ends of the summaries. The maximum length after preprocessing will just be the average item length plus a buffer for now. "
   ]
  },
  {
   "cell_type": "code",
   "execution_count": 7,
   "metadata": {},
   "outputs": [
    {
     "name": "stdout",
     "output_type": "stream",
     "text": [
      "Input maxlen:   468\n",
      "Target maxlen:  62\n"
     ]
    }
   ],
   "source": [
    "from tensorflow.keras.preprocessing.sequence import pad_sequences\n",
    "from math import floor\n",
    "import numpy\n",
    "\n",
    "input_max_len = floor(numpy.average([len(item) for item in text_data])) + 25\n",
    "target_max_len = floor(numpy.average([len(item) for item in summary_data])) + 25\n",
    "\n",
    "print(\"Input maxlen:  \", input_max_len)\n",
    "print(\"Target maxlen: \", target_max_len)\n",
    "\n",
    "# the 'post' options mean we pad/truncate at the end of the sequence, not before it.\n",
    "input_seqs = pad_sequences(input_seqs, maxlen=input_max_len, padding='post', truncating='post')\n",
    "target_seqs = pad_sequences(target_seqs, maxlen=target_max_len, padding='post', truncating='post')"
   ]
  },
  {
   "cell_type": "markdown",
   "metadata": {},
   "source": [
    "A final adjustment is to set the buffer and batch sizes for our model, producing a randomized Tensorflow Dataset."
   ]
  },
  {
   "cell_type": "code",
   "execution_count": 8,
   "metadata": {},
   "outputs": [
    {
     "data": {
      "text/plain": [
       "<BatchDataset element_spec=(TensorSpec(shape=(None, 468), dtype=tf.int32, name=None), TensorSpec(shape=(None, 62), dtype=tf.int32, name=None))>"
      ]
     },
     "execution_count": 8,
     "metadata": {},
     "output_type": "execute_result"
    }
   ],
   "source": [
    "BUFFER = 20000\n",
    "BATCH_SIZE = 32\n",
    "\n",
    "input_seqs = tf.cast(input_seqs, dtype=tf.int32)\n",
    "target_seqs = tf.cast(target_seqs, dtype=tf.int32)\n",
    "\n",
    "dataset = tf.data.Dataset.from_tensor_slices((input_seqs, target_seqs)).shuffle(BUFFER).batch(BATCH_SIZE)\n",
    "dataset"
   ]
  },
  {
   "attachments": {
    "image.png": {
     "image/png": "[encoded data removed]"
    }
   },
   "cell_type": "markdown",
   "metadata": {},
   "source": [
    "## The Transformer Architecture, pt. I\n",
    "---\n",
    "### Data Utilities\n",
    "The thing about self-attention in transformers is we could end up losing ordinal information about our data. To solve this problem, we use \"positional encodings\", where we embed ordinal information within our word data. We want to implement these formulae:\n",
    "![image.png](attachment:image.png)"
   ]
  },
  {
   "cell_type": "code",
   "execution_count": 9,
   "metadata": {},
   "outputs": [],
   "source": [
    "# Math is hard.\n",
    "# This section is closely adapted from https://medium.com/swlh/abstractive-text-summarization-using-transformers-3e774cc42453\n",
    "\n",
    "# calculate PE\n",
    "def positional_encoding(pos, i, d_model):\n",
    "    angle_rads = get_angles(\n",
    "        np.arange(position)[:, np.newaxis],\n",
    "        np.arange(d_model)[np.newaxis, :],\n",
    "        d_model\n",
    "    )\n",
    "\n",
    "    # apply sin to even indices in the array; 2i\n",
    "    angle_rads[:, 0::2] = np.sin(angle_rads[:, 0::2])\n",
    "\n",
    "    # apply cos to odd indices in the array; 2i+1\n",
    "    angle_rads[:, 1::2] = np.cos(angle_rads[:, 1::2])\n",
    "\n",
    "    pos_encoding = angle_rads[np.newaxis, ...]\n",
    "\n",
    "    return tf.cast(pos_encoding, dtype=tf.float32)\n",
    "\n",
    "# generate the internal argument to the trig function\n",
    "def get_angles(position, i, d_model):\n",
    "    angle_rates = 1 / np.power(10000, (2 * (i // 2)) / np.float32(d_model))\n",
    "    return position * angle_rates"
   ]
  },
  {
   "cell_type": "markdown",
   "metadata": {},
   "source": [
    "Next, we need two small masks.\n",
    "\n",
    "One is the padding mask, which ignores the padded portions of our sequences.\n",
    "\n",
    "The other is the lookahead mask, which ignores words that come after a given word. This is important because we want to make predictions based on the words we have seen already, since language is linear."
   ]
  },
  {
   "cell_type": "code",
   "execution_count": 10,
   "metadata": {},
   "outputs": [
    {
     "name": "stdout",
     "output_type": "stream",
     "text": [
      "tf.Tensor(\n",
      "[[[[0. 0. 0. ... 1. 1. 1.]]]\n",
      "\n",
      "\n",
      " [[[0. 0. 0. ... 1. 1. 1.]]]\n",
      "\n",
      "\n",
      " [[[0. 0. 0. ... 1. 1. 1.]]]], shape=(3, 1, 1, 468), dtype=float32)\n",
      "tf.Tensor(\n",
      "[[[[0. 0. 0. ... 1. 1. 1.]]]\n",
      "\n",
      "\n",
      " [[[0. 0. 0. ... 1. 1. 1.]]]\n",
      "\n",
      "\n",
      " [[[0. 0. 0. ... 1. 1. 1.]]]\n",
      "\n",
      "\n",
      " [[[0. 0. 0. ... 1. 1. 1.]]]], shape=(4, 1, 1, 468), dtype=float32)\n",
      "tf.Tensor(\n",
      "[[[[0. 0. 0. ... 1. 1. 1.]]]\n",
      "\n",
      "\n",
      " [[[0. 0. 0. ... 1. 1. 1.]]]\n",
      "\n",
      "\n",
      " [[[0. 0. 0. ... 1. 1. 1.]]]\n",
      "\n",
      "\n",
      " [[[0. 0. 0. ... 1. 1. 1.]]]\n",
      "\n",
      "\n",
      " [[[0. 0. 0. ... 1. 1. 1.]]]], shape=(5, 1, 1, 468), dtype=float32)\n",
      "==================================================\n",
      "tf.Tensor(\n",
      "[[0. 1. 1. 1. 1.]\n",
      " [0. 0. 1. 1. 1.]\n",
      " [0. 0. 0. 1. 1.]\n",
      " [0. 0. 0. 0. 1.]\n",
      " [0. 0. 0. 0. 0.]], shape=(5, 5), dtype=float32)\n",
      "tf.Tensor(\n",
      "[[0. 1. 1. 1.]\n",
      " [0. 0. 1. 1.]\n",
      " [0. 0. 0. 1.]\n",
      " [0. 0. 0. 0.]], shape=(4, 4), dtype=float32)\n",
      "tf.Tensor(\n",
      "[[0. 1. 1.]\n",
      " [0. 0. 1.]\n",
      " [0. 0. 0.]], shape=(3, 3), dtype=float32)\n",
      "tf.Tensor(\n",
      "[[0. 1.]\n",
      " [0. 0.]], shape=(2, 2), dtype=float32)\n"
     ]
    }
   ],
   "source": [
    "def padding_mask(seq):\n",
    "    # we padded with 0s\n",
    "    remove_padding = tf.math.equal(seq, 0)\n",
    "    new_seq = tf.cast(remove_padding, tf.float32)\n",
    "    # add two new axes\n",
    "    return new_seq[:, tf.newaxis, tf.newaxis, :]\n",
    "\n",
    "# Once again, I don't really understand how this mask works. It's from the same source above.\n",
    "def lookahead_mask(size):\n",
    "    mask = 1 - tf.linalg.band_part(tf.ones((size, size)), -1, 0)\n",
    "    return mask\n",
    "\n",
    "print(padding_mask(input_seqs[:3]))\n",
    "print(padding_mask(input_seqs[:4]))\n",
    "print(padding_mask(input_seqs[:5]))\n",
    "print('==================================================')\n",
    "print(lookahead_mask(5))\n",
    "print(lookahead_mask(4))\n",
    "print(lookahead_mask(3))\n",
    "print(lookahead_mask(2))"
   ]
  },
  {
   "attachments": {
    "image.png": {
     "image/png": "[encoded data removed]"
    }
   },
   "cell_type": "markdown",
   "metadata": {},
   "source": [
    "## The Transformer Architecture, pt. 2\n",
    "---\n",
    "### Paying Self-Attention\n",
    "\n",
    "At this point, we can start assembling the transformer. The first step is to implement a scaled dot product function, which is the key to our self-attention layer. This includes a few components: \n",
    "- *Matrix multiplication* (i.e. dot product) of our query and our key\n",
    "- *Scaling*\n",
    "    - We need to scale down our inputs in order to prevent them from being too large, so we divide by $\\sqrt{d_k}$, a scaling factor proportional to the size of our input.\n",
    "- An optional *mask*\n",
    "    - This is where we will use our padding mask from before\n",
    "- *Softmax*\n",
    "    - Transforming the value to fit in a \\[0, 1\\] probability distribution.\n",
    "- Another step of matrix multiplication of the result of the above with our value.\n",
    "\n",
    "Thus, the scaled dot product attention is equivalent to ![image.png](attachment:image.png) although the affect of the mask is not counted here.\n"
   ]
  },
  {
   "cell_type": "code",
   "execution_count": 11,
   "metadata": {},
   "outputs": [],
   "source": [
    "# takes in a query, a key, a value, and an optional mask.\n",
    "# returns a tuple of (the output, the attention weights)\n",
    "def sdp_attention(q, k, v, mask=None):\n",
    "    # Step 1: QK^T, AKA matrix multiplication\n",
    "    qk = tf.matmul(q, k, transpose_b=True)\n",
    "    \n",
    "    #Scaling\n",
    "    dk = tf.cast(tf.shape(k)[-1], tf.float32)\n",
    "    scaled = qk / dk\n",
    "    \n",
    "    # apply the mask, only if it is not the default None option.\n",
    "    if mask is not None:\n",
    "        scaled += (mask * -1e9)\n",
    "    \n",
    "    # softmax\n",
    "    softmax = tf.nn.softmax(scaled)\n",
    "    \n",
    "    # finally, multiply by v\n",
    "    result = tf.matmul(softmax, v)\n",
    "    return result, softmax"
   ]
  },
  {
   "cell_type": "markdown",
   "metadata": {},
   "source": [
    "Next, we need to actually make this into a layer in our Transformer architecture. We do this by implementing a subclass of the Layer class from Keras. The important method that we implement is call(), which applies the logic of the layer. Keras documentation also suggests implementing a few other methods, but we don't think those are necessary for our project, so we are going to tactically ignore them.\n",
    "\n",
    "We make it \"multi-headed\", which means that we can split up the calculations to make them more efficient. If we want to split into *h* heads, then the sizes of the query, key, and value (AKA the *depth*) will be equal to *d_model* / *h*. Therefore, the former must be evenly divisible by the latter."
   ]
  },
  {
   "cell_type": "code",
   "execution_count": 26,
   "metadata": {},
   "outputs": [
    {
     "data": {
      "text/plain": [
       "<__main__.AttentionLayer at 0x1da0967a920>"
      ]
     },
     "execution_count": 26,
     "metadata": {},
     "output_type": "execute_result"
    }
   ],
   "source": [
    "class AttentionLayer(tf.keras.layers.Layer):\n",
    "    def __init__(self, d_model, heads):\n",
    "        super(AttentionLayer, self).__init__()\n",
    "        self.d_model = d_model\n",
    "        self.heads = heads\n",
    "        \n",
    "        # d_model needs to be divisible by the number of heads\n",
    "        if not d_model % heads == 0:\n",
    "            raise RuntimeError('d_model (' + str(d_model) + ') must be divisible by heads (' + str(heads) + ').')\n",
    "        \n",
    "        self.depth = d_model / heads\n",
    "        \n",
    "        # make Keras densely-connected NN layers for the data we eventually have\n",
    "        self.q_layer = tf.keras.layers.Dense(d_model)\n",
    "        self.k_layer = tf.keras.layers.Dense(d_model)\n",
    "        self.v_layer = tf.keras.layers.Dense(d_model)\n",
    "        \n",
    "        # dense layer that will eventually store the output\n",
    "        self.out_layer = tf.keras.layers.Dense(d_model)\n",
    "    \n",
    "    def call(self, q, v, k, mask):       \n",
    "        # start applying all those layers we made\n",
    "        Q = self.q_layer(q)\n",
    "        V = self.q_layer(v)\n",
    "        K = self.q_layer(k)\n",
    "        \n",
    "        # split the heads apart, so that we are multi-headed\n",
    "        split_Q = self.split(Q, batch)\n",
    "        split_V = self.split(V, batch)\n",
    "        split_K = self.split(K, batch)\n",
    "    \n",
    "        # apply the attention\n",
    "        attention = sdp_attention(q, k, v, mask)\n",
    "        weights = attention[1]\n",
    "        attention_results = tf.transpose(attention[0], perm=[0,2,1,3])\n",
    "        \n",
    "        # concatenate attention back to one vector\n",
    "        attention_results = tf.reshape(attention_results, (tf.shape(q)[0], -1, self.d_model))\n",
    "        output = self.out_layer(attention_results)\n",
    "        \n",
    "        return output, weights\n",
    "        \n",
    "    \n",
    "    # helper method for splitting the heads\n",
    "    def split(self, layer, batch):\n",
    "        Layer = tf.reshape(layer, (batch, -1, self.heads, self.depth))\n",
    "        Layer = tf.transpose(Layer, perm=[0,2,1,3])\n",
    "        return Layer\n",
    "        \n",
    "AttentionLayer(6, 3)"
   ]
  },
  {
   "cell_type": "markdown",
   "metadata": {},
   "source": [
    "### Feeding it Forward\n",
    "\n",
    "The last basic unit of a transformer that we have to implement is a Feed-Forward Network (FFN) layer. This is pretty simple, since we just need to sequentially go from one layer to another, and Keras has this functionality."
   ]
  },
  {
   "cell_type": "code",
   "execution_count": 27,
   "metadata": {},
   "outputs": [],
   "source": [
    "def ffn(d_model, d_ffn):\n",
    "    l1 = tf.keras.layers.Dense(d_ffn)\n",
    "    l2 = tf.keras.layers.Dense(d_model)\n",
    "    return tf.keras.Sequential([l1, l2])"
   ]
  },
  {
   "cell_type": "markdown",
   "metadata": {},
   "source": [
    "## The Transformer Architecture, pt. 3\n",
    "---\n",
    "### Building the Transformer \n",
    "\n",
    "So far, we've made the individual building blocks of the Transformer, which process data at each step. Now, we can build the main components: the Encoder and the Decoder. These are comprised of individual layers, each of which contain:\n",
    "- An attention layer\n",
    "- A FFN layer\n",
    "- A normalization layer\n",
    "- A dropout layer\n",
    "    - When training, randomly sets some inputs to 0, and distributes that value to the other inputs."
   ]
  },
  {
   "cell_type": "code",
   "execution_count": 32,
   "metadata": {},
   "outputs": [],
   "source": [
    "class EncoderLayer(tf.keras.layers.Layer):\n",
    "    def __init__(self, d_model, heads, d_ffn):\n",
    "        super(EncoderLayer, self).__init__()\n",
    "        \n",
    "        # the MH Attention layer\n",
    "        self.att = AttentionLayer(d_model, heads)\n",
    "        \n",
    "        # the FFN  layer\n",
    "        self.ffn = ffn(d_model, d_ffn)\n",
    "        \n",
    "        # Normie layers\n",
    "        # we use a smaller epsilon value than standard\n",
    "        norm1 = tf.keras.layers.LayerNormalization(0.000001)\n",
    "        norm2 = tf.keras.layers.LayerNormalization(0.000001)\n",
    "        \n",
    "        # Dropout layers\n",
    "        # We apply dropout 10% of the time.\n",
    "        drop1 = tf.keras.layers.Dropout(0.1)\n",
    "        drop2 = tf.keras.layers.Dropout(0.1)\n",
    "        \n",
    "    def call(self, datum, is_training, mask):\n",
    "        # Sorry for the weird formatting.\n",
    "        # I think this is the best way to present the process\n",
    "        \n",
    "        # <...>   <---   normalize <--  dropout    <--   attention <-- input\n",
    "        attention = self.norm1( datum + self.drop1( self.att(datum, datum, datum, mask), training=is_training))\n",
    "        \n",
    "        #           normalize     <--       dropout <-- ffn <-- <...>\n",
    "        feed = self.norm2( attention + self.drop2( self.ffn(attention), training=is_training))\n",
    "        \n",
    "        return feed"
   ]
  },
  {
   "cell_type": "markdown",
   "metadata": {},
   "source": [
    "A Decoder layer is pretty much the same as an Encoder layer, except that it has that extra attention layer. "
   ]
  },
  {
   "cell_type": "code",
   "execution_count": 35,
   "metadata": {},
   "outputs": [],
   "source": [
    "class DecoderLayer(tf.keras.layers.Layer):\n",
    "    def __init__(self, d_model, heads, d_ffn):\n",
    "        super(EncoderLayer, self).__init__()\n",
    "        \n",
    "        # the MH Attention layers\n",
    "        self.att1 = AttentionLayer(d_model, heads)\n",
    "        self.att2 = AttentionLayer(d_model, heads)\n",
    "        \n",
    "        # the FFN  layer\n",
    "        self.ffn = ffn(d_model, d_ffn)\n",
    "        \n",
    "        # Normie layers\n",
    "        # we use a smaller epsilon value than standard\n",
    "        norm1 = tf.keras.layers.LayerNormalization(0.000001)\n",
    "        norm2 = tf.keras.layers.LayerNormalization(0.000001)\n",
    "        norm3 = tf.keras.layers.LayerNormalization(0.000001)\n",
    "        \n",
    "        # Dropout layers\n",
    "        # We apply dropout 10% of the time.\n",
    "        drop1 = tf.keras.layers.Dropout(0.1)\n",
    "        drop2 = tf.keras.layers.Dropout(0.1)\n",
    "        drop3 = tf.keras.layers.Dropout(0.1)\n",
    "        \n",
    "    # The decoder actually needs to use the masks we defined earlier\n",
    "    def call(self, datum, encoder_result, is_training, look_mask, pad_mask):\n",
    "        \n",
    "        # The first attention layer\n",
    "        att1_res = self.att1(datum, datum, datum, look_mask)\n",
    "        att1_out = att1_res[0]\n",
    "        att1_weights = att1_res[1]\n",
    "        att1_out = self.norm1(datum + (self.drop1(att1_out, training=is_training)))\n",
    "        \n",
    "        # This extra attention layer takes in the input from the encoder as a query\n",
    "        # and combines it with the first layer's output, using. \n",
    "        att2_res = self.att2(out1, encoder_result, encoder_result, pad_mask)\n",
    "        att2_out = att2_res[0]\n",
    "        att2_weights = att1_res[1]\n",
    "        att2_out = self.norm2(att1_out + (self.drop2(att2_out, training=is_training)))\n",
    "        \n",
    "        # Finally, the ffn layer\n",
    "        ffn_out = self.norm3(att2_out + self.drop3(self.ffn(att2_out), training=is_training))\n",
    "        \n",
    "        return ffn_out, att1_weights, att2_weights\n",
    "        "
   ]
  },
  {
   "cell_type": "markdown",
   "metadata": {},
   "source": [
    "### Assembling the components\n",
    "\n",
    "Now that we have our Encoder/Decoder layers, we can actually put them together to form the Encoder and Decoder themselves.\n",
    "\n",
    "These are basically just bigger Keras Layers that have multiple smaller layers inside."
   ]
  },
  {
   "cell_type": "code",
   "execution_count": 39,
   "metadata": {},
   "outputs": [],
   "source": [
    "class Encoder(tf.keras.layers.Layer):\n",
    "    def __init__(self, layers, d_model, heads, d_ffn, vocab_size, max_pos):\n",
    "        super(Encoder, self).__init__()\n",
    "\n",
    "        self.d_model = d_model\n",
    "        self.layers = layers\n",
    "\n",
    "        # creates an embedding layer with the size of the vocabulary\n",
    "        self.embedding = tf.keras.layers.Embedding(vocab_size, self.d_model)\n",
    "        \n",
    "        self.pos_enc = positional_encoding(max_pos, self.d_model)\n",
    "\n",
    "        self.encoder_layers = []\n",
    "        for i in range(layers):\n",
    "            l = EncoderLayer(d_model, heads, d_ffn)\n",
    "            self.encoder_layers.append(l)\n",
    "\n",
    "        self.drop = tf.keras.layers.Dropout(0.1)\n",
    "    \n",
    "    def call(self, datum, is_training, mask):\n",
    "        # get the length of the input\n",
    "        length = tf.shape(datum)[1]\n",
    "        \n",
    "        # get the input embedding\n",
    "        Datum = self.embedding(datum)\n",
    "        Datum = Datum * tf.math.sqrt(tf.cast(self.d_model, tf.float32))\n",
    "        \n",
    "        # apply the positional encoding\n",
    "        Datum += self.pos_enc[:, :length, :]\n",
    "        \n",
    "        # apply dropout\n",
    "        Datum = self.drop(Datum, training=is_training)\n",
    "        \n",
    "        # apply all of the Encoder layers in order\n",
    "        for layer in self.encoder_layers:\n",
    "            Datum = layer(Datum, is_training, mask)\n",
    "        \n",
    "        return Datum"
   ]
  },
  {
   "cell_type": "code",
   "execution_count": 40,
   "metadata": {},
   "outputs": [
    {
     "name": "stdout",
     "output_type": "stream",
     "text": [
      "On branch main\n",
      "Your branch is up to date with 'origin/main'.\n",
      "\n",
      "Changes not staged for commit:\n",
      "  (use \"git add <file>...\" to update what will be committed)\n",
      "  (use \"git restore <file>...\" to discard changes in working directory)\n",
      "\tmodified:   project.ipynb\n",
      "\n",
      "no changes added to commit (use \"git add\" and/or \"git commit -a\")\n"
     ]
    }
   ],
   "source": [
    "!git "
   ]
  }
 ],
 "metadata": {
  "kernelspec": {
   "display_name": "Python 3 (ipykernel)",
   "language": "python",
   "name": "python3"
  },
  "language_info": {
   "codemirror_mode": {
    "name": "ipython",
    "version": 3
   },
   "file_extension": ".py",
   "mimetype": "text/x-python",
   "name": "python",
   "nbconvert_exporter": "python",
   "pygments_lexer": "ipython3",
   "version": "3.10.11"
  }
 },
 "nbformat": 4,
 "nbformat_minor": 2
}
